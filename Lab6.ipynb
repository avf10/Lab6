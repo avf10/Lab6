{
 "cells": [
  {
   "cell_type": "code",
   "execution_count": null,
   "metadata": {},
   "outputs": [],
   "source": [
    "#An input to take in the name of the user\n",
    "name = input(prompt = \"Please enter your name:\")\n",
    "\n",
    "#Begin an infinite loop to ensure we're inputting age as an integer\n",
    "while True:\n",
    "    #An input that takes in the age of our user\n",
    "    age = input(prompt = \"Please enter your age:\")\n",
    "    try: #Attempt to process the age input as an integer. If it is valid, continue\n",
    "        int(age)\n",
    "        break\n",
    "    except: #Run if your inputted age was not a valid integer\n",
    "        print(\"You did not input a valid integer for your age. Try again!\")\n",
    "\n",
    "#Calculate how old the user will be in 5 years from the current data\n",
    "new_age = int(age) + 5\n",
    "\n",
    "#Display your result accordingly\n",
    "print(\"Your name is\", name, \"and your age in 5 years will be \" + str(new_age) + \".\")"
   ]
  }
 ],
 "metadata": {
  "kernelspec": {
   "display_name": "Python 3 (ipykernel)",
   "language": "python",
   "name": "python3"
  },
  "language_info": {
   "codemirror_mode": {
    "name": "ipython",
    "version": 3
   },
   "file_extension": ".py",
   "mimetype": "text/x-python",
   "name": "python",
   "nbconvert_exporter": "python",
   "pygments_lexer": "ipython3",
   "version": "3.9.7"
  }
 },
 "nbformat": 4,
 "nbformat_minor": 4
}
